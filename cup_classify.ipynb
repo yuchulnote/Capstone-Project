{
 "cells": [
  {
   "cell_type": "code",
   "execution_count": 2,
   "metadata": {},
   "outputs": [],
   "source": [
    "from ultralytics import YOLO"
   ]
  },
  {
   "cell_type": "code",
   "execution_count": 3,
   "metadata": {},
   "outputs": [
    {
     "name": "stdout",
     "output_type": "stream",
     "text": [
      "YOLOv8n-cls summary: 99 layers, 2719288 parameters, 2719288 gradients, 4.4 GFLOPs\n",
      "YOLOv8n-cls summary: 99 layers, 2719288 parameters, 2719288 gradients, 4.4 GFLOPs\n",
      "Transferred 158/158 items from pretrained weights\n"
     ]
    }
   ],
   "source": [
    "model = YOLO('yolov8n-cls.yaml')\n",
    "model = YOLO('yolov8n-cls.pt')\n",
    "model = YOLO('yolov8n-cls.yaml').load('yolov8n-cls.pt')"
   ]
  },
  {
   "cell_type": "code",
   "execution_count": null,
   "metadata": {},
   "outputs": [],
   "source": [
    "results = model.train(data = r'C:\\Capstone\\data\\classify',\n",
    "                      model = r'C:\\Capstone\\runs\\classify\\cup_cls_3classes\\weights\\best.pt',\n",
    "                      epochs = 100,\n",
    "                      imgsz = (640, 640),\n",
    "                      name = \"cup_cls_3classes_resume\",\n",
    "                      resume = True,\n",
    "                      patience = 10)"
   ]
  },
  {
   "cell_type": "markdown",
   "metadata": {},
   "source": [
    "### Predict"
   ]
  },
  {
   "cell_type": "code",
   "execution_count": 4,
   "metadata": {},
   "outputs": [
    {
     "data": {
      "text/plain": [
       "{0: 'abnormal', 1: 'normal', 2: 'upsidedown'}"
      ]
     },
     "execution_count": 4,
     "metadata": {},
     "output_type": "execute_result"
    }
   ],
   "source": [
    "predict_model = YOLO('yolov8n-cls.pt')\n",
    "predict_model = YOLO(r'C:\\Capstone\\runs\\classify\\cup_cls_3classes_resume\\weights\\best.pt')\n",
    "predict_model.names"
   ]
  },
  {
   "cell_type": "code",
   "execution_count": 8,
   "metadata": {},
   "outputs": [
    {
     "name": "stdout",
     "output_type": "stream",
     "text": [
      "\n",
      "image 1/25 C:\\Capstone\\data\\classify\\test\\normal\\BrfogTpk.jpg: 640x640 normal 1.00, abnormal 0.00, upsidedown 0.00, 22.0ms\n",
      "image 2/25 C:\\Capstone\\data\\classify\\test\\normal\\CuHpXzfL2.jpg: 640x640 normal 1.00, upsidedown 0.00, abnormal 0.00, 20.0ms\n",
      "image 3/25 C:\\Capstone\\data\\classify\\test\\normal\\EjdWtugj.jpg: 640x640 normal 1.00, upsidedown 0.00, abnormal 0.00, 20.0ms\n",
      "image 4/25 C:\\Capstone\\data\\classify\\test\\normal\\IMG_0280.jpg: 640x640 normal 1.00, upsidedown 0.00, abnormal 0.00, 20.0ms\n",
      "image 5/25 C:\\Capstone\\data\\classify\\test\\normal\\KeHdCcTU.jpg: 640x640 normal 1.00, abnormal 0.00, upsidedown 0.00, 19.0ms\n",
      "image 6/25 C:\\Capstone\\data\\classify\\test\\normal\\QkmjxVNL.jpg: 640x640 normal 1.00, upsidedown 0.00, abnormal 0.00, 19.0ms\n",
      "image 7/25 C:\\Capstone\\data\\classify\\test\\normal\\WIN_20240610_16_48_29_Pro5.jpg: 640x640 normal 1.00, abnormal 0.00, upsidedown 0.00, 20.0ms\n",
      "image 8/25 C:\\Capstone\\data\\classify\\test\\normal\\WIN_20240610_16_49_11_Pro7.jpg: 640x640 normal 1.00, abnormal 0.00, upsidedown 0.00, 19.0ms\n",
      "image 9/25 C:\\Capstone\\data\\classify\\test\\normal\\WIN_20240617_03_24_02_Pro2.jpg: 640x640 normal 1.00, abnormal 0.00, upsidedown 0.00, 19.0ms\n",
      "image 10/25 C:\\Capstone\\data\\classify\\test\\normal\\WIN_20240617_03_24_02_Pro4.jpg: 640x640 normal 1.00, abnormal 0.00, upsidedown 0.00, 20.0ms\n",
      "image 11/25 C:\\Capstone\\data\\classify\\test\\normal\\WIN_20240617_03_26_48_Pro5.jpg: 640x640 normal 1.00, abnormal 0.00, upsidedown 0.00, 19.0ms\n",
      "image 12/25 C:\\Capstone\\data\\classify\\test\\normal\\WIN_20240617_03_28_03_Pro6.jpg: 640x640 normal 1.00, abnormal 0.00, upsidedown 0.00, 19.0ms\n",
      "image 13/25 C:\\Capstone\\data\\classify\\test\\normal\\WIN_20240617_03_39_44_Pro8.jpg: 640x640 normal 1.00, abnormal 0.00, upsidedown 0.00, 19.0ms\n",
      "image 14/25 C:\\Capstone\\data\\classify\\test\\normal\\WIN_20240617_03_39_45_Pro8.jpg: 640x640 normal 1.00, abnormal 0.00, upsidedown 0.00, 19.0ms\n",
      "image 15/25 C:\\Capstone\\data\\classify\\test\\normal\\YVrNeepj.jpg: 640x640 normal 1.00, upsidedown 0.00, abnormal 0.00, 18.0ms\n",
      "image 16/25 C:\\Capstone\\data\\classify\\test\\normal\\YjlQKJVR.jpg: 640x640 normal 1.00, upsidedown 0.00, abnormal 0.00, 18.0ms\n",
      "image 17/25 C:\\Capstone\\data\\classify\\test\\normal\\ZXWSkrPL3.jpg: 640x640 normal 1.00, upsidedown 0.00, abnormal 0.00, 18.0ms\n",
      "image 18/25 C:\\Capstone\\data\\classify\\test\\normal\\cagzCLDo.jpg: 640x640 normal 1.00, upsidedown 0.00, abnormal 0.00, 18.0ms\n",
      "image 19/25 C:\\Capstone\\data\\classify\\test\\normal\\eOxdUEzF.jpg: 640x640 normal 1.00, upsidedown 0.00, abnormal 0.00, 18.0ms\n",
      "image 20/25 C:\\Capstone\\data\\classify\\test\\normal\\gwbyzKJc.jpg: 640x640 normal 1.00, abnormal 0.00, upsidedown 0.00, 18.0ms\n",
      "image 21/25 C:\\Capstone\\data\\classify\\test\\normal\\kAhzDQJW.jpg: 640x640 normal 1.00, upsidedown 0.00, abnormal 0.00, 18.0ms\n",
      "image 22/25 C:\\Capstone\\data\\classify\\test\\normal\\kMBwIfgk.jpg: 640x640 normal 1.00, upsidedown 0.00, abnormal 0.00, 18.0ms\n",
      "image 23/25 C:\\Capstone\\data\\classify\\test\\normal\\mJVWHSUk.jpg: 640x640 normal 1.00, abnormal 0.00, upsidedown 0.00, 18.0ms\n",
      "image 24/25 C:\\Capstone\\data\\classify\\test\\normal\\sHKSBUIw.jpg: 640x640 normal 1.00, upsidedown 0.00, abnormal 0.00, 18.0ms\n",
      "image 25/25 C:\\Capstone\\data\\classify\\test\\normal\\zfkZbzSw.jpg: 640x640 normal 1.00, upsidedown 0.00, abnormal 0.00, 18.0ms\n",
      "Speed: 16.6ms preprocess, 18.9ms inference, 0.1ms postprocess per image at shape (1, 3, 640, 640)\n",
      "Results saved to \u001b[1mruns\\classify\\4\u001b[0m\n"
     ]
    }
   ],
   "source": [
    "# Character Detect 모델 output이 Classification의 input이 되어야 함.\n",
    "\n",
    "source = r'C:\\Capstone\\data\\classify\\test\\normal'\n",
    "predicted_results = predict_model(source, name='컵분류테스트', save=True, save_txt=False, show_labels=True, conf=0.9, show_conf=True, stream=True)\n",
    "for r in predicted_results:\n",
    "     boxes = r.boxes\n",
    "     masks = r.masks\n",
    "     probs = r.probs"
   ]
  },
  {
   "cell_type": "markdown",
   "metadata": {},
   "source": [
    "### Semi Labelling\n",
    "\n",
    "폴더1에서 캐릭터 디텍션 결과 별 txt 파일을 읽습니다.\n",
    "\n",
    "txt 파일의 첫 번째 줄에서 한글 이름을 추출합니다.\n",
    "\n",
    "동일한 이름의 이미지 파일을 캐릭터 디텍션 결과가 들어있는 폴더2에서 찾아 폴더3의 새로운 서브디렉토리에 저장합니다."
   ]
  },
  {
   "cell_type": "code",
   "execution_count": null,
   "metadata": {},
   "outputs": [],
   "source": [
    "import os\n",
    "import shutil\n",
    "\n",
    "def extract_top_label_from_txt(txt_file):\n",
    "    \"\"\"txt 파일의 첫 줄에서 라벨을 추출합니다.\"\"\"\n",
    "    with open(txt_file, 'r', encoding='utf-8') as f:\n",
    "        first_line = f.readline()\n",
    "        label_name = first_line.split()[-1]\n",
    "    return label_name\n",
    "\n",
    "def copy_image_with_same_name_as_txt(txt_file, src_image_folder, dest_folder):\n",
    "    \"\"\"txt 파일의 이름과 동일한 이미지를 복사하되, 파일명에 라벨을 추가하여 저장합니다.\"\"\"\n",
    "    base_name_without_ext = os.path.splitext(os.path.basename(txt_file))[0]\n",
    "    image_file_path = os.path.join(src_image_folder, base_name_without_ext + '.jpg')  # 이미지 확장자가 jpg라고 가정\n",
    "\n",
    "    if os.path.exists(image_file_path):\n",
    "        label = extract_top_label_from_txt(txt_file)\n",
    "        label_folder = os.path.join(dest_folder, label)\n",
    "        os.makedirs(label_folder, exist_ok=True)  # 폴더가 없다면 생성\n",
    "        \n",
    "        # 파일명에 라벨 추가\n",
    "        dest_image_path = os.path.join(label_folder, base_name_without_ext + '-' + label + '.jpg')\n",
    "        shutil.copy(image_file_path, dest_image_path)\n",
    "\n",
    "def main():\n",
    "    # 라벨 txt 디렉토리\n",
    "    folder1 = r\"F:\\Project\\3-2\\webtoon_crawler_naver\\Character_Classification\\runs\\classify\\호랑이형님\\labels\"\n",
    "    # Detect 결과 사진 디렉토리\n",
    "    folder2 = r\"F:\\Project\\3-2\\webtoon_crawler_naver\\webtoon_Classification\\Character_Detection\\runs\\detect\\호랑이형님_캐릭터_디텍션\\crops\\character\"\n",
    "    # 최종 결과 저장 디렉토리\n",
    "    folder3 = r\"F:\\Project\\3-2\\data\\호랑이형님\\classified_character_folder\"\n",
    "\n",
    "    for txt_file in os.listdir(folder1):\n",
    "        if txt_file.endswith('.txt'):\n",
    "            txt_file_path = os.path.join(folder1, txt_file)\n",
    "            copy_image_with_same_name_as_txt(txt_file_path, folder2, folder3)\n",
    "\n",
    "if __name__ == \"__main__\":\n",
    "    main()"
   ]
  }
 ],
 "metadata": {
  "kernelspec": {
   "display_name": "opencv",
   "language": "python",
   "name": "python3"
  },
  "language_info": {
   "codemirror_mode": {
    "name": "ipython",
    "version": 3
   },
   "file_extension": ".py",
   "mimetype": "text/x-python",
   "name": "python",
   "nbconvert_exporter": "python",
   "pygments_lexer": "ipython3",
   "version": "3.8.16"
  }
 },
 "nbformat": 4,
 "nbformat_minor": 2
}
