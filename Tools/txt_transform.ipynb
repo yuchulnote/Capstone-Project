{
 "cells": [
  {
   "cell_type": "code",
   "execution_count": 1,
   "metadata": {},
   "outputs": [
    {
     "name": "stdout",
     "output_type": "stream",
     "text": [
      "All JSON files have been converted to YOLO format.\n"
     ]
    }
   ],
   "source": [
    "import json\n",
    "import os\n",
    "\n",
    "# JSON 파일이 저장된 폴더 경로\n",
    "json_folder_path = r'C:\\Capstone\\data\\er'\n",
    "\n",
    "# YOLO 포맷으로 변환하는 함수\n",
    "def convert_to_yolo_format(shapes, img_width, img_height):\n",
    "    yolo_data = []\n",
    "    for shape in shapes:\n",
    "        x1, y1 = shape[\"points\"][0]\n",
    "        x2, y2 = shape[\"points\"][1]\n",
    "        \n",
    "        x_center = (x1 + x2) / 2\n",
    "        y_center = (y1 + y2) / 2\n",
    "        width = x2 - x1\n",
    "        height = y2 - y1\n",
    "        \n",
    "        x_center /= img_width\n",
    "        y_center /= img_height\n",
    "        width /= img_width\n",
    "        height /= img_height\n",
    "        \n",
    "        yolo_data.append(f\"0 {x_center} {y_center} {width} {height}\")\n",
    "        \n",
    "    return yolo_data\n",
    "\n",
    "# 지정된 폴더 내의 모든 JSON 파일에 대해 변환 수행\n",
    "for file_name in os.listdir(json_folder_path):\n",
    "    if file_name.endswith('.json'):\n",
    "        file_path = os.path.join(json_folder_path, file_name)\n",
    "        \n",
    "        # JSON 파일 읽기\n",
    "        with open(file_path, 'r') as file:\n",
    "            data = json.load(file)\n",
    "        \n",
    "        # YOLO 포맷으로 변환\n",
    "        yolo_data = convert_to_yolo_format(data[\"shapes\"], data[\"imageWidth\"], data[\"imageHeight\"])\n",
    "        \n",
    "        # 변환된 데이터를 같은 이름의 .txt 파일로 저장\n",
    "        yolo_text = \"\\n\".join(yolo_data)\n",
    "        txt_file_path = os.path.join(json_folder_path, os.path.splitext(file_name)[0] + '.txt')\n",
    "        with open(txt_file_path, \"w\") as txt_file:\n",
    "            txt_file.write(yolo_text)\n",
    "\n",
    "# 변환 완료 메시지 출력\n",
    "print(\"All JSON files have been converted to YOLO format.\")\n"
   ]
  }
 ],
 "metadata": {
  "kernelspec": {
   "display_name": ".capstone",
   "language": "python",
   "name": "python3"
  },
  "language_info": {
   "codemirror_mode": {
    "name": "ipython",
    "version": 3
   },
   "file_extension": ".py",
   "mimetype": "text/x-python",
   "name": "python",
   "nbconvert_exporter": "python",
   "pygments_lexer": "ipython3",
   "version": "3.8.16"
  }
 },
 "nbformat": 4,
 "nbformat_minor": 2
}
